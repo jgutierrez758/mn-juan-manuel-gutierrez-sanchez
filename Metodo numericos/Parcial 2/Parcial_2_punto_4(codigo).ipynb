{
  "nbformat": 4,
  "nbformat_minor": 0,
  "metadata": {
    "kernelspec": {
      "display_name": "Python 3",
      "language": "python",
      "name": "python3"
    },
    "language_info": {
      "codemirror_mode": {
        "name": "ipython",
        "version": 3
      },
      "file_extension": ".py",
      "mimetype": "text/x-python",
      "name": "python",
      "nbconvert_exporter": "python",
      "pygments_lexer": "ipython3",
      "version": "3.8.5"
    },
    "colab": {
      "name": "Parcial 2 punto 4(codigo).ipynb",
      "provenance": []
    }
  },
  "cells": [
    {
      "cell_type": "code",
      "metadata": {
        "id": "9J7Ra-rGoEwo"
      },
      "source": [
        "import math as mt\n",
        "import numpy\n",
        "import pandas\n"
      ],
      "execution_count": 7,
      "outputs": []
    },
    {
      "cell_type": "code",
      "metadata": {
        "id": "kcP6Oo2eoEw2"
      },
      "source": [
        "def f(x):\n",
        "    return 1-mt.log1p(x**5 - 5*x**2 + 6)"
      ],
      "execution_count": 8,
      "outputs": []
    },
    {
      "cell_type": "code",
      "metadata": {
        "id": "0arJpWmxoEw3"
      },
      "source": [
        "xl=1.4\n",
        "xu=1.6\n",
        "error=0.01\n",
        "i=0"
      ],
      "execution_count": 3,
      "outputs": []
    },
    {
      "cell_type": "code",
      "metadata": {
        "colab": {
          "base_uri": "https://localhost:8080/"
        },
        "id": "y5rjFrpmoEw4",
        "outputId": "3963685e-0692-4562-bfd3-89f7505ee025"
      },
      "source": [
        "while error >1e-8:\n",
        "    xr = xl-((f(xl)*(xu-xl))/(f(xu)-f(xl)))\n",
        "    fxl=f(xl)\n",
        "    fxr=f(xr)\n",
        "    ea=abs((xr-xl)/xr)\n",
        "    if fxr==0:\n",
        "        raiz = c\n",
        "        break\n",
        "    elif fxl*fxr<0:\n",
        "        xu=xr\n",
        "    else:\n",
        "        xl=xr\n",
        "        raiz=xr\n",
        "        i+=1\n",
        "        error=abs(fxr)\n",
        "        print(\"itecion\",i,\"raiz:\",raiz,\"error aprox\",ea)        \n",
        "        "
      ],
      "execution_count": 9,
      "outputs": [
        {
          "output_type": "stream",
          "text": [
            "itecion 1 raiz: 1.4177071087788817 error aprox 0.012489962608802562\n",
            "itecion 2 raiz: 1.4226186832146315 error aprox 0.003452488353837211\n",
            "itecion 3 raiz: 1.4238746289934388 error aprox 0.0008820620532406891\n",
            "itecion 4 raiz: 1.4241887089413365 error aprox 0.0002205325361210402\n",
            "itecion 5 raiz: 1.424266807318453 error aprox 5.4834091979940046e-05\n",
            "itecion 6 raiz: 1.424286199525965 error aprox 1.3615386794078821e-05\n",
            "itecion 7 raiz: 1.4242910130063853 error aprox 3.3795624463649955e-06\n",
            "itecion 8 raiz: 1.4242922076905602 error aprox 8.387914842686793e-07\n",
            "itecion 9 raiz: 1.4242925041993457 error aprox 2.0817969950009103e-07\n",
            "itecion 10 raiz: 1.4242925777894937 error aprox 5.166785892374626e-08\n",
            "itecion 11 raiz: 1.4242925960537167 error aprox 1.2823364436122632e-08\n",
            "itecion 12 raiz: 1.4242926005866843 error aprox 3.182609777655453e-09\n"
          ],
          "name": "stdout"
        }
      ]
    },
    {
      "cell_type": "code",
      "metadata": {
        "id": "mToCpAg_oEw6"
      },
      "source": [
        ""
      ],
      "execution_count": null,
      "outputs": []
    },
    {
      "cell_type": "code",
      "metadata": {
        "id": "AmzmLJohoEw6"
      },
      "source": [
        ""
      ],
      "execution_count": null,
      "outputs": []
    }
  ]
}