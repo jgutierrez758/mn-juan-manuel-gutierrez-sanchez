{
  "nbformat": 4,
  "nbformat_minor": 0,
  "metadata": {
    "colab": {
      "name": "Punto4",
      "provenance": [],
      "collapsed_sections": []
    },
    "kernelspec": {
      "name": "python3",
      "display_name": "Python 3"
    },
    "language_info": {
      "name": "python"
    }
  },
  "cells": [
    {
      "cell_type": "code",
      "metadata": {
        "id": "QA-zBkeNzqGO"
      },
      "source": [
        "import numpy as np"
      ],
      "execution_count": 1,
      "outputs": []
    },
    {
      "cell_type": "code",
      "metadata": {
        "id": "G5OF3yAwztFi"
      },
      "source": [
        "fx  = lambda x: 3*(x**4) - 2*(x**2) + 3*x -5\n",
        "dfx = lambda x: 12*(x**3) -4*x + 3"
      ],
      "execution_count": 2,
      "outputs": []
    },
    {
      "cell_type": "code",
      "metadata": {
        "id": "jUsVD7jG0Vh2"
      },
      "source": [
        "x0 = 2\n",
        "tolera = 0.00001"
      ],
      "execution_count": 3,
      "outputs": []
    },
    {
      "cell_type": "code",
      "metadata": {
        "colab": {
          "base_uri": "https://localhost:8080/"
        },
        "id": "EcpweDzf0pWI",
        "outputId": "6da39a8b-4c54-4444-81ba-63fa5d86543e"
      },
      "source": [
        "tabla = []\n",
        "tramo = abs(2*tolera)\n",
        "xi = x0\n",
        "while (tramo>=tolera):\n",
        "    xnuevo = xi - fx(xi)/dfx(xi)\n",
        "    tramo  = abs(xnuevo-xi)\n",
        "    tabla.append([xi,xnuevo,tramo])\n",
        "    xi = xnuevo\n",
        "\n",
        "# convierte la lista a un arreglo.\n",
        "tabla = np.array(tabla)\n",
        "n = len(tabla)\n",
        "\n",
        "# SALIDA\n",
        "print(['xi', 'xnuevo', 'tramo'])\n",
        "np.set_printoptions(precision = 4)\n",
        "print(tabla)\n",
        "print('raiz en: ', xi)\n",
        "print('con error de: ',tramo)"
      ],
      "execution_count": 4,
      "outputs": [
        {
          "output_type": "stream",
          "text": [
            "['xi', 'xnuevo', 'tramo']\n",
            "[[2.0000e+00 1.5495e+00 4.5055e-01]\n",
            " [1.5495e+00 1.2565e+00 2.9290e-01]\n",
            " [1.2565e+00 1.1147e+00 1.4190e-01]\n",
            " [1.1147e+00 1.0823e+00 3.2328e-02]\n",
            " [1.0823e+00 1.0808e+00 1.5004e-03]\n",
            " [1.0808e+00 1.0808e+00 3.1042e-06]]\n",
            "raiz en:  1.0808205188546975\n",
            "con error de:  3.1042028585392956e-06\n"
          ],
          "name": "stdout"
        }
      ]
    },
    {
      "cell_type": "code",
      "metadata": {
        "id": "zva7JasT0uR1"
      },
      "source": [
        ""
      ],
      "execution_count": null,
      "outputs": []
    }
  ]
}