{
  "nbformat": 4,
  "nbformat_minor": 0,
  "metadata": {
    "colab": {
      "name": "Punto2",
      "provenance": [],
      "collapsed_sections": []
    },
    "kernelspec": {
      "name": "python3",
      "display_name": "Python 3"
    },
    "language_info": {
      "name": "python"
    }
  },
  "cells": [
    {
      "cell_type": "code",
      "metadata": {
        "id": "_BXusZXz1sVB"
      },
      "source": [
        "import numpy as np"
      ],
      "execution_count": 1,
      "outputs": []
    },
    {
      "cell_type": "code",
      "metadata": {
        "id": "ZPBPnO662FjT"
      },
      "source": [
        "# MATRIZ\n",
        "A = np.array([[2,2,-1,0],\n",
        "              [4,4,3,9],\n",
        "              [0,1,3,7],\n",
        "              [3,-3,-2,-4]])\n",
        "\n",
        "B = np.array([[10],\n",
        "              [20],\n",
        "              [14],\n",
        "              [0]])"
      ],
      "execution_count": 2,
      "outputs": []
    },
    {
      "cell_type": "code",
      "metadata": {
        "id": "fNZOTZ2R2MrT"
      },
      "source": [
        "# PROCEDIMIENTO\n",
        "casicero = 1e-15 # Considerar como 0"
      ],
      "execution_count": 3,
      "outputs": []
    },
    {
      "cell_type": "code",
      "metadata": {
        "id": "wqhEdyXB2Niy"
      },
      "source": [
        "# Evitar truncamiento en operaciones\n",
        "A = np.array(A,dtype=float)"
      ],
      "execution_count": 4,
      "outputs": []
    },
    {
      "cell_type": "code",
      "metadata": {
        "id": "0FE7lyLE2SvJ"
      },
      "source": [
        "# Matriz aumentada\n",
        "AB = np.concatenate((A,B),axis=1)\n",
        "AB0 = np.copy(AB)"
      ],
      "execution_count": 5,
      "outputs": []
    },
    {
      "cell_type": "code",
      "metadata": {
        "id": "2chqaZSD2VNg"
      },
      "source": [
        "# Pivoteo parcial por filas\n",
        "tamano = np.shape(AB)\n",
        "n = tamano[0]\n",
        "m = tamano[1]"
      ],
      "execution_count": 6,
      "outputs": []
    },
    {
      "cell_type": "code",
      "metadata": {
        "id": "PTno0eGq2YOR"
      },
      "source": [
        "# Para cada fila en AB\n",
        "for i in range(0,n-1,1):\n",
        "    # columna desde diagonal i en adelante\n",
        "    columna = abs(AB[i:,i])\n",
        "    dondemax = np.argmax(columna)\n",
        "    \n",
        "    # dondemax no está en diagonal\n",
        "    if (dondemax !=0):\n",
        "        # intercambia filas\n",
        "        temporal = np.copy(AB[i,:])\n",
        "        AB[i,:] = AB[dondemax+i,:]\n",
        "        AB[dondemax+i,:] = temporal\n",
        "        \n",
        "AB1 = np.copy(AB)"
      ],
      "execution_count": 7,
      "outputs": []
    },
    {
      "cell_type": "code",
      "metadata": {
        "colab": {
          "base_uri": "https://localhost:8080/"
        },
        "id": "cDwOQYPz2fLZ",
        "outputId": "90c4e2b6-caf4-47fa-e8b3-d7796315820d"
      },
      "source": [
        "# eliminacion hacia adelante\n",
        "for i in range(0,n-1,1):\n",
        "    pivote = AB[i,i]\n",
        "    adelante = i + 1\n",
        "    for k in range(adelante,n,1):\n",
        "        factor = AB[k,i]/pivote\n",
        "        AB[k,:] = AB[k,:] - AB[i,:]*factor\n",
        "AB2 = np.copy(AB)\n",
        "\n",
        "# elimina hacia atras\n",
        "ultfila = n-1\n",
        "ultcolumna = m-1\n",
        "for i in range(ultfila,0-1,-1):\n",
        "    pivote = AB[i,i]\n",
        "    atras = i-1 \n",
        "    for k in range(atras,0-1,-1):\n",
        "        factor = AB[k,i]/pivote\n",
        "        AB[k,:] = AB[k,:] - AB[i,:]*factor\n",
        "    # diagonal a unos\n",
        "    AB[i,:] = AB[i,:]/AB[i,i]\n",
        "X = np.copy(AB[:,ultcolumna])\n",
        "X = np.transpose([X])\n",
        "\n",
        "\n",
        "# SALIDA\n",
        "print('Matriz aumentada:')\n",
        "print(AB0)\n",
        "print('Pivoteo parcial por filas')\n",
        "print(AB1)\n",
        "print('eliminacion hacia adelante')\n",
        "print(AB2)\n",
        "print('eliminación hacia atrás')\n",
        "print(AB)\n",
        "print('solución de X: ')\n",
        "print(X)"
      ],
      "execution_count": 8,
      "outputs": [
        {
          "output_type": "stream",
          "text": [
            "Matriz aumentada:\n",
            "[[ 2.  2. -1.  0. 10.]\n",
            " [ 4.  4.  3.  9. 20.]\n",
            " [ 0.  1.  3.  7. 14.]\n",
            " [ 3. -3. -2. -4.  0.]]\n",
            "Pivoteo parcial por filas\n",
            "[[ 4.  4.  3.  9. 20.]\n",
            " [ 3. -3. -2. -4.  0.]\n",
            " [ 0.  1.  3.  7. 14.]\n",
            " [ 2.  2. -1.  0. 10.]]\n",
            "eliminacion hacia adelante\n",
            "[[  4.           4.           3.           9.          20.        ]\n",
            " [  0.          -6.          -4.25       -10.75       -15.        ]\n",
            " [  0.           0.           2.29166667   5.20833333  11.5       ]\n",
            " [  0.           0.           0.           1.18181818  12.54545455]]\n",
            "eliminación hacia atrás\n",
            "[[  1.           0.           0.           0.          -1.56923077]\n",
            " [ -0.           1.          -0.          -0.          -2.98461538]\n",
            " [  0.           0.           1.           0.         -19.10769231]\n",
            " [  0.           0.           0.           1.          10.61538462]]\n",
            "solución de X: \n",
            "[[ -1.56923077]\n",
            " [ -2.98461538]\n",
            " [-19.10769231]\n",
            " [ 10.61538462]]\n"
          ],
          "name": "stdout"
        }
      ]
    },
    {
      "cell_type": "code",
      "metadata": {
        "id": "_G_U0aoU3Xrg"
      },
      "source": [
        ""
      ],
      "execution_count": null,
      "outputs": []
    }
  ]
}