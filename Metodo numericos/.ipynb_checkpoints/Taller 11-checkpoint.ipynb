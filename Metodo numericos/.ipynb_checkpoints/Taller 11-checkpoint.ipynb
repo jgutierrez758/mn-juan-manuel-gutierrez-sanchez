{
 "cells": [
  {
   "cell_type": "code",
   "execution_count": 2,
   "metadata": {},
   "outputs": [],
   "source": [
    "import math\n",
    "import numpy\n",
    "import pandas\n"
   ]
  },
  {
   "cell_type": "code",
   "execution_count": 3,
   "metadata": {},
   "outputs": [],
   "source": [
    "def f(x):\n",
    "    return 1.5*x**3 - 3.5*x**2 - 2*x + 2"
   ]
  },
  {
   "cell_type": "code",
   "execution_count": 17,
   "metadata": {},
   "outputs": [],
   "source": [
    "xl=2.5\n",
    "xu=3\n",
    "error=0.01\n",
    "i=0"
   ]
  },
  {
   "cell_type": "code",
   "execution_count": 18,
   "metadata": {},
   "outputs": [
    {
     "name": "stdout",
     "output_type": "stream",
     "text": [
      "itecion 1 raiz: 2.6116504854368934 error aprox 0.0427509293680298\n",
      "itecion 2 raiz: 2.638799516538141 error aprox 0.010288402332612386\n",
      "itecion 3 raiz: 2.644979502287154 error aprox 0.0023364966509831515\n",
      "itecion 4 raiz: 2.6463645586151077 error aprox 0.000523380772858692\n",
      "itecion 5 raiz: 2.646673888221609 error aprox 0.00011687484728583907\n",
      "itecion 6 raiz: 2.646742917626142 error aprox 2.6080887597053715e-05\n",
      "itecion 7 raiz: 2.646758319392962 error aprox 5.819105850082227e-06\n",
      "itecion 8 raiz: 2.646761755684107 error aprox 1.2983001350934293e-06\n",
      "itecion 9 raiz: 2.646762522348984 error aprox 2.8966137703818947e-07\n",
      "itecion 10 raiz: 2.6467626933979034 error aprox 6.462571045734601e-08\n",
      "itecion 11 raiz: 2.646762731560236 error aprox 1.4418493939871206e-08\n",
      "itecion 12 raiz: 2.646762740074546 error aprox 3.216876985948932e-09\n",
      "itecion 13 raiz: 2.646762741974154 error aprox 7.177099769122249e-10\n"
     ]
    }
   ],
   "source": [
    "while error >1e-8:\n",
    "    xr = xl-((f(xl)*(xu-xl))/(f(xu)-f(xl)))\n",
    "    fxl=f(xl)\n",
    "    fxr=f(xr)\n",
    "    ea=abs((xr-xl)/xr)\n",
    "    if fxr==0:\n",
    "        raiz = c\n",
    "        break\n",
    "    elif fxl*fxr<0:\n",
    "        xu=xr\n",
    "    else:\n",
    "        xl=xr\n",
    "        raiz=xr\n",
    "        i+=1\n",
    "        error=abs(fxr)\n",
    "        print(\"itecion\",i,\"raiz:\",raiz,\"error aprox\",ea)        \n",
    "        "
   ]
  },
  {
   "cell_type": "code",
   "execution_count": null,
   "metadata": {},
   "outputs": [],
   "source": []
  },
  {
   "cell_type": "code",
   "execution_count": null,
   "metadata": {},
   "outputs": [],
   "source": []
  }
 ],
 "metadata": {
  "kernelspec": {
   "display_name": "Python 3",
   "language": "python",
   "name": "python3"
  },
  "language_info": {
   "codemirror_mode": {
    "name": "ipython",
    "version": 3
   },
   "file_extension": ".py",
   "mimetype": "text/x-python",
   "name": "python",
   "nbconvert_exporter": "python",
   "pygments_lexer": "ipython3",
   "version": "3.8.5"
  }
 },
 "nbformat": 4,
 "nbformat_minor": 4
}
