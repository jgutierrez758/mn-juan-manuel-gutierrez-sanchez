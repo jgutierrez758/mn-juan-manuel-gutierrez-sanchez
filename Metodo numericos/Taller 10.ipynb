{
 "cells": [
  {
   "cell_type": "code",
   "execution_count": null,
   "metadata": {},
   "outputs": [],
   "source": [
    "import matplotlib.pyplot as plt\n",
    "import numpy as np"
   ]
  },
  {
   "cell_type": "code",
   "execution_count": 34,
   "metadata": {},
   "outputs": [],
   "source": [
    "#Función para polinomios\n",
    "def  f (x):\n",
    "    x= 1.5*x**3 - 3.5*x**2 - 2*x + 2\n",
    "    return (x)\n",
    "\n",
    "\n",
    "\n"
   ]
  },
  {
   "cell_type": "code",
   "execution_count": 43,
   "metadata": {},
   "outputs": [
    {
     "name": "stdout",
     "output_type": "stream",
     "text": [
      "Introduce el punto xl0.5\n",
      "Introduce el punto xu1\n",
      "Introduce el error0.0001\n",
      "Iteracion 1 . Raiz aproximada  0.75\n",
      "Iteracion 2 . Raiz aproximada  0.625\n",
      "Iteracion 3 . Raiz aproximada  0.5625\n",
      "Iteracion 4 . Raiz aproximada  0.59375\n",
      "Iteracion 5 . Raiz aproximada  0.578125\n",
      "Iteracion 6 . Raiz aproximada  0.5703125\n",
      "Iteracion 7 . Raiz aproximada  0.56640625\n",
      "Iteracion 8 . Raiz aproximada  0.568359375\n",
      "Iteracion 9 . Raiz aproximada  0.5693359375\n",
      "Iteracion 10 . Raiz aproximada  0.56982421875\n",
      "Iteracion 11 . Raiz aproximada  0.570068359375\n",
      "Iteracion 12 . Raiz aproximada  0.5701904296875\n",
      "Iteracion 13 . Raiz aproximada  0.57012939453125\n"
     ]
    }
   ],
   "source": [
    "\n",
    "      \n",
    "#Programa principal bisección\n",
    "\n",
    "xl=float(input('Introduce el punto xl'))\n",
    "xu=float(input('Introduce el punto xu'))\n",
    "error=float(input('Introduce el error'))\n",
    "xa = (xl + xu) / 2.0\n",
    "i=0\n",
    "while abs (f(xa)) > error :\n",
    "    xa = (xl + xu) / 2.0\n",
    "    if f(xl) * f(xa) < 0:\n",
    "        xu= xa\n",
    "    else:\n",
    "        xl= xa\n",
    "    raiz =xa  \n",
    "    i +=1\n",
    "    print(\"Iteracion\", i, \". Raiz aproximada \" ,raiz)\n"
   ]
  },
  {
   "cell_type": "code",
   "execution_count": null,
   "metadata": {},
   "outputs": [],
   "source": []
  },
  {
   "cell_type": "code",
   "execution_count": null,
   "metadata": {},
   "outputs": [],
   "source": []
  },
  {
   "cell_type": "code",
   "execution_count": null,
   "metadata": {},
   "outputs": [],
   "source": []
  }
 ],
 "metadata": {
  "kernelspec": {
   "display_name": "Python 3",
   "language": "python",
   "name": "python3"
  },
  "language_info": {
   "codemirror_mode": {
    "name": "ipython",
    "version": 3
   },
   "file_extension": ".py",
   "mimetype": "text/x-python",
   "name": "python",
   "nbconvert_exporter": "python",
   "pygments_lexer": "ipython3",
   "version": "3.8.5"
  }
 },
 "nbformat": 4,
 "nbformat_minor": 4
}
