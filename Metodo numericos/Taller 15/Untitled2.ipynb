{
  "nbformat": 4,
  "nbformat_minor": 0,
  "metadata": {
    "colab": {
      "name": "Untitled2.ipynb",
      "provenance": []
    },
    "kernelspec": {
      "name": "python3",
      "display_name": "Python 3"
    },
    "language_info": {
      "name": "python"
    }
  },
  "cells": [
    {
      "cell_type": "code",
      "metadata": {
        "id": "8nBgBPr1cAYI"
      },
      "source": [
        "import math\n",
        "import numpy\n",
        "import pandas    "
      ],
      "execution_count": 31,
      "outputs": []
    },
    {
      "cell_type": "code",
      "metadata": {
        "id": "-F-KZ-THehvq"
      },
      "source": [
        "def f(x):\n",
        "    return x**2-math.exp(-2*x)-3 "
      ],
      "execution_count": 32,
      "outputs": []
    },
    {
      "cell_type": "code",
      "metadata": {
        "id": "mOiVzLNFKxv0"
      },
      "source": [
        "error = 00.1\n",
        "i = 0\n",
        "x2 = 0\n",
        "x0=1.6\n",
        "x1=1.7"
      ],
      "execution_count": 44,
      "outputs": []
    },
    {
      "cell_type": "code",
      "metadata": {
        "id": "Nkr4OZ4qL3Ue"
      },
      "source": [
        "while error >1e-8:\n",
        "    x2 = x1 - (f(x1)*(x1-x0))/(f(x1)-f(x0))\n",
        "    x0 = x1\n",
        "    x1 = x2\n",
        "    ea=abs((x2-x1)/x2)\n",
        "    if f(x2)==0:\n",
        "        raiz = c\n",
        "        break\n",
        "    else:\n",
        "        raiz=x3\n",
        "        i+=1\n",
        "        error=abs(f(x3)\n",
        "        print(\"interacion\",i,\"raiz\",raiz,\"error aprox\"ea)\n",
        "        \n"
      ],
      "execution_count": null,
      "outputs": []
    },
    {
      "cell_type": "code",
      "metadata": {
        "id": "BXRKLMO2NgbK"
      },
      "source": [
        ""
      ],
      "execution_count": null,
      "outputs": []
    }
  ]
}